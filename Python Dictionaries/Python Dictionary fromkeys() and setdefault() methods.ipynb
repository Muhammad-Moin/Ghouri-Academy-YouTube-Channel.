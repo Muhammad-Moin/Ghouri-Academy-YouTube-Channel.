{
 "cells": [
  {
   "cell_type": "markdown",
   "id": "fce5eef0",
   "metadata": {},
   "source": [
    "# <center><h3>Ghouri Academy</h3></center>\n",
    "https://www.youtube.com/channel/UCj92OEDrmGwVZ1NdHEHdcsg"
   ]
  },
  {
   "cell_type": "markdown",
   "id": "b3927725",
   "metadata": {},
   "source": [
    "# Dictionaries: <span style=\"color:blue\">fromkeys() <span style = \"color:black\">&</span> setdefault() method</span>\n",
    "\n",
    "<h4>\n",
    "<span style=\"color:blue\">Defination:</span>\n",
    "The dict.fromKeys() is a built-in Python function that creates a new dictionary from the given\n",
    "sequence of elements with a value provided by the user. The fromKeys method returns the dictionary \n",
    "with specified keys and values. \n",
    "\n",
    "<span style=\"color:blue\">Syntax:</span> dict.fromkeys(seq[, value])\n",
    "\n",
    "<span style=\"color:blue\">seq:</span> This is the list of values which would be used for dictionary keys preparation.\n",
    "\n",
    "<span style=\"color:blue\">value:</span> This is optional, if provided then value would be set to this value\n",
    "</h4>\n",
    "\n"
   ]
  },
  {
   "cell_type": "code",
   "execution_count": 4,
   "id": "950d6117",
   "metadata": {},
   "outputs": [
    {
     "data": {
      "text/plain": [
       "{1: 10, 2: 10, 3: 10, 4: 10, 5: 10, 6: 10, 7: 10, 8: 10, 9: 10}"
      ]
     },
     "execution_count": 4,
     "metadata": {},
     "output_type": "execute_result"
    }
   ],
   "source": [
    "lst = [23,32,12]\n",
    "x = 'Sports Rates'\n",
    "dict.fromkeys(range(1,10),10)"
   ]
  },
  {
   "cell_type": "code",
   "execution_count": 10,
   "id": "4f027ca3",
   "metadata": {},
   "outputs": [
    {
     "name": "stdout",
     "output_type": "stream",
     "text": [
      "MS\n"
     ]
    },
    {
     "data": {
      "text/plain": [
       "{'name': 'Ghouri', 'age': 22, 'Education': 'MS'}"
      ]
     },
     "execution_count": 10,
     "metadata": {},
     "output_type": "execute_result"
    }
   ],
   "source": [
    "info = {'name': 'Ghouri','age':22}\n",
    "print(info.setdefault('Education','MS'))\n",
    "info"
   ]
  }
 ],
 "metadata": {
  "kernelspec": {
   "display_name": "Python 3 (ipykernel)",
   "language": "python",
   "name": "python3"
  },
  "language_info": {
   "codemirror_mode": {
    "name": "ipython",
    "version": 3
   },
   "file_extension": ".py",
   "mimetype": "text/x-python",
   "name": "python",
   "nbconvert_exporter": "python",
   "pygments_lexer": "ipython3",
   "version": "3.9.12"
  }
 },
 "nbformat": 4,
 "nbformat_minor": 5
}
