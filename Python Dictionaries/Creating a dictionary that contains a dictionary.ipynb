{
 "cells": [
  {
   "cell_type": "markdown",
   "id": "fce5eef0",
   "metadata": {},
   "source": [
    "# <center><h3>Ghouri Academy</h3></center>\n",
    "https://www.youtube.com/channel/UCj92OEDrmGwVZ1NdHEHdcsg"
   ]
  },
  {
   "cell_type": "markdown",
   "id": "b3927725",
   "metadata": {},
   "source": [
    "# Dictionaries: <span style=\"color:blue\">Nested Dictionary</span>\n",
    "\n",
    "<h4>\n",
    "<span style=\"color:blue\">Defination:</span>\n",
    "Putting a Dictionary inside another dictionary.\n",
    "\n",
    "It is a collection of dictionaries into one single dictionary</h4>\n",
    "\n"
   ]
  },
  {
   "cell_type": "code",
   "execution_count": 10,
   "id": "6fbf6199",
   "metadata": {},
   "outputs": [],
   "source": [
    " customers = {\n",
    " 0: { \"first name\":\"John\", \"last name\": \"Ogden\", \"address\": \"301 Arbor Rd.\"},\n",
    " 1: {\"first name\":\"Ann\",\"last name\": \"Sattermyer\",\"address\": \"PO Box 1145\"},\n",
    " 2: {\"first name\":\"Jill\",\"last name\": \"Somers\",\"address\": \"3 Main St.\"},\n",
    " }    \n",
    "\n"
   ]
  },
  {
   "cell_type": "code",
   "execution_count": 11,
   "id": "788d072c",
   "metadata": {},
   "outputs": [
    {
     "name": "stdout",
     "output_type": "stream",
     "text": [
      "dict_items([(0, {'first name': 'John', 'last name': 'Ogden', 'address': '301 Arbor Rd.'}), (1, {'first name': 'Ann', 'last name': 'Sattermyer', 'address': 'PO Box 1145'}), (2, {'first name': 'Jill', 'last name': 'Somers', 'address': '3 Main St.'})])\n"
     ]
    }
   ],
   "source": [
    "print(customers.items()) # apply on whole dictionary"
   ]
  },
  {
   "cell_type": "code",
   "execution_count": 12,
   "id": "512d9c34",
   "metadata": {},
   "outputs": [
    {
     "name": "stdout",
     "output_type": "stream",
     "text": [
      "dict_items([('first name', 'John'), ('last name', 'Ogden'), ('address', '301 Arbor Rd.')])\n"
     ]
    }
   ],
   "source": [
    "print(customers[0].items()) # apply on nested dictionary"
   ]
  },
  {
   "cell_type": "code",
   "execution_count": 13,
   "id": "fa500830",
   "metadata": {},
   "outputs": [
    {
     "name": "stdout",
     "output_type": "stream",
     "text": [
      "(2, {'first name': 'Jill', 'last name': 'Somers', 'address': '3 Main St.'})\n"
     ]
    }
   ],
   "source": [
    "print(customers.popitem()) # apply on whole dictionary"
   ]
  },
  {
   "cell_type": "code",
   "execution_count": 17,
   "id": "be5ee642",
   "metadata": {},
   "outputs": [
    {
     "name": "stdout",
     "output_type": "stream",
     "text": [
      "{0: {'first name': 'John', 'last name': 'Ogden', 'address': '301 Arbor Rd.'}}\n"
     ]
    }
   ],
   "source": [
    "customers.pop(1) # apply on whole dictionary\n",
    "print(customers)"
   ]
  },
  {
   "cell_type": "code",
   "execution_count": 18,
   "id": "cb092f8d",
   "metadata": {},
   "outputs": [
    {
     "data": {
      "text/plain": [
       "('address', '301 Arbor Rd.')"
      ]
     },
     "execution_count": 18,
     "metadata": {},
     "output_type": "execute_result"
    }
   ],
   "source": [
    "customers[0].popitem() # apply on nested dictionary"
   ]
  },
  {
   "cell_type": "code",
   "execution_count": 21,
   "id": "1ca5ea32",
   "metadata": {},
   "outputs": [
    {
     "data": {
      "text/plain": [
       "'John'"
      ]
     },
     "execution_count": 21,
     "metadata": {},
     "output_type": "execute_result"
    }
   ],
   "source": [
    "customers[0].pop('first name') # apply on nested dictionary"
   ]
  },
  {
   "cell_type": "code",
   "execution_count": 22,
   "id": "8b57a554",
   "metadata": {},
   "outputs": [
    {
     "data": {
      "text/plain": [
       "{0: {'last name': 'Ogden'}}"
      ]
     },
     "execution_count": 22,
     "metadata": {},
     "output_type": "execute_result"
    }
   ],
   "source": [
    "customers"
   ]
  }
 ],
 "metadata": {
  "kernelspec": {
   "display_name": "Python 3 (ipykernel)",
   "language": "python",
   "name": "python3"
  },
  "language_info": {
   "codemirror_mode": {
    "name": "ipython",
    "version": 3
   },
   "file_extension": ".py",
   "mimetype": "text/x-python",
   "name": "python",
   "nbconvert_exporter": "python",
   "pygments_lexer": "ipython3",
   "version": "3.9.12"
  }
 },
 "nbformat": 4,
 "nbformat_minor": 5
}
