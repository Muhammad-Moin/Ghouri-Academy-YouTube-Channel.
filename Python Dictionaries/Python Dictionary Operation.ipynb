{
 "cells": [
  {
   "cell_type": "markdown",
   "id": "fce5eef0",
   "metadata": {},
   "source": [
    "# <center><h3>Ghouri Academy</h3></center>\n",
    "https://www.youtube.com/channel/UCj92OEDrmGwVZ1NdHEHdcsg"
   ]
  },
  {
   "cell_type": "markdown",
   "id": "b3927725",
   "metadata": {},
   "source": [
    "# Dictionaries Operation\n",
    "1- Create a dictionary\n",
    "\n",
    "2- Add items\n",
    "\n",
    "3- Copy Dictionary\n",
    "\n",
    "4- Delete Item\n",
    "\n",
    "5- Clear Dictionary\n",
    "\n"
   ]
  },
  {
   "cell_type": "code",
   "execution_count": 10,
   "id": "c3125ce3",
   "metadata": {},
   "outputs": [
    {
     "name": "stdout",
     "output_type": "stream",
     "text": [
      "All data copy in x variale: {'age': 23, 'address': 'downtown', 'name': 'Ghouri'}\n",
      "After the clear: {}\n"
     ]
    }
   ],
   "source": [
    "# info = {'address': 'Downtown', 'age': [27,23,23], 'name': 'Jack'}\n",
    "info = {'age':23, 'address':'downtown','name':'Ghouri'}\n",
    "x = info.copy()\n",
    "print('All data copy in x variale:',x)\n",
    "info.clear()\n",
    "print(\"After the clear:\",info)\n"
   ]
  },
  {
   "cell_type": "code",
   "execution_count": 11,
   "id": "29381b47",
   "metadata": {},
   "outputs": [
    {
     "name": "stdout",
     "output_type": "stream",
     "text": [
      "23\n",
      "('name', 'Ghouri')\n",
      "None\n",
      "dict_keys(['address', 'age'])\n",
      "dict_values(['downtown', 24])\n",
      "Please Subscirbe My YouTube channel 'Ghouri Academy': Thanks\n"
     ]
    }
   ],
   "source": [
    "print(x.pop('age')) #delete item with the help of key\n",
    "print(x.popitem()) # last item delete\n",
    "print(x.update({'age':24})) #update the item with help of key/value\n",
    "print(x.keys()) #return all keys in existance dictionary\n",
    "print(x.values()) #return all value in existance dictionary\n",
    "print(\"Please Subscirbe My YouTube channel 'Ghouri Academy':\", 'Thanks')"
   ]
  }
 ],
 "metadata": {
  "kernelspec": {
   "display_name": "Python 3 (ipykernel)",
   "language": "python",
   "name": "python3"
  },
  "language_info": {
   "codemirror_mode": {
    "name": "ipython",
    "version": 3
   },
   "file_extension": ".py",
   "mimetype": "text/x-python",
   "name": "python",
   "nbconvert_exporter": "python",
   "pygments_lexer": "ipython3",
   "version": "3.9.12"
  }
 },
 "nbformat": 4,
 "nbformat_minor": 5
}
